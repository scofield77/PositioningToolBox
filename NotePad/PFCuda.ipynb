{
 "cells": [
  {
   "cell_type": "code",
   "execution_count": null,
   "metadata": {
    "collapsed": true
   },
   "outputs": [],
   "source": [
    "import matplotlib.pyplot  as plt\n",
    "\n",
    "import numpy as np\n",
    "import scipy as sp\n",
    "\n",
    "from numba import jit\n",
    "\n",
    "from numba import cuda\n",
    "\n",
    "from numba.cuda.random import create_xoroshiro128p_states, xoroshiro128p_uniform_float32\n",
    "\n",
    "import numba\n",
    "\n",
    "@cuda.jit\n",
    "def initial_unit_q(q_array):\n",
    "    # tx = cuda.threadIdx.x\n",
    "    # ty = cuda.blockIdx.x\n",
    "    # bw = cuda.blockDim.x\n",
    "\n",
    "    # pos = tx + ty * bw\n",
    "    pos = cuda.grid(1)\n",
    "\n",
    "    if pos < q_array.shape[1]:\n",
    "        q_array[0, pos] = 1.0\n",
    "        q_array[1, pos] = 0.0\n",
    "        q_array[2, pos] = 0.0\n",
    "        q_array[3, pos] = 0.0\n",
    "\n",
    "@cuda.jit\n",
    "def quaternion_add_euler(q,euler):\n",
    "    Theta = cuda.device_array([4,4],dtype=np.float32)\n",
    "    Theta[0,0] = 0.0\n",
    "    Theta[0,1] = -euler[0]\n",
    "    Theta[0,2] = -euler[1]\n",
    "    Theta[0,3] = -euler[2]\n",
    "\n",
    "    Theta[1,0] = euler[0]\n",
    "    Theta[1,1] = 0.0\n",
    "\n",
    "\n",
    "\n",
    "@cuda.jit\n",
    "def sample(q_array,input,sigma,rng):\n",
    "    pos = cuda.grid(1)\n"
   ]
  }
 ],
 "metadata": {
  "kernelspec": {
   "display_name": "Python 2",
   "language": "python",
   "name": "python2"
  },
  "language_info": {
   "codemirror_mode": {
    "name": "ipython",
    "version": 2
   },
   "file_extension": ".py",
   "mimetype": "text/x-python",
   "name": "python",
   "nbconvert_exporter": "python",
   "pygments_lexer": "ipython2",
   "version": "2.7.6"
  }
 },
 "nbformat": 4,
 "nbformat_minor": 0
}
